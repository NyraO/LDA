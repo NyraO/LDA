{
 "cells": [
  {
   "cell_type": "code",
   "execution_count": 1,
   "id": "cc967650",
   "metadata": {
    "id": "cc967650"
   },
   "outputs": [
    {
     "name": "stdout",
     "output_type": "stream",
     "text": [
      "\n",
      "@@@@ This is HornMorpho, version 4.0.5 @@@@\n",
      "\n"
     ]
    }
   ],
   "source": [
    "import pandas as pd\n",
    "import nltk\n",
    "import hm"
   ]
  },
  {
   "cell_type": "code",
   "execution_count": 2,
   "id": "004fdeaf",
   "metadata": {
    "id": "004fdeaf"
   },
   "outputs": [
    {
     "data": {
      "text/plain": [
       "0      RT @AyeleGelan: ድሮ ተሸምድደው በቀላሉ ይንበለበሉ የነበሩ ኢህኣ...\n",
       "1      ኦሮሞ ልምድ የለውም ካልን ሌላውም ያው ይሆናል ዋናውነገር ፍትህን ማውረድ...\n",
       "2                                                   lost\n",
       "3      @Gfasil በረከት በላይነህ \\nየእያዪ ፈንገስ ትያትር ደራሲ\\nእንዲሁም...\n",
       "4                                                   lost\n",
       "                             ...                        \n",
       "934    @HaileFida ምሳሌ 11 (Proverbs)\\n2፤ ትዕቢት ከመጣች ውርደ...\n",
       "935    @isuchisu በተንኮል በጠባብ ዘረኝነት  የተመረዘውን ልብህን አፅዳ ከ...\n",
       "936                                                 lost\n",
       "937    @_wurye @_wurye ❤ I'm inlove with this song 🎵\\...\n",
       "938    @HussenMuhye ህዝብ በእብደት ያቃጠለው እንደተወገዘ ቢሆንም ወዲያው...\n",
       "Name: tweet, Length: 939, dtype: object"
      ]
     },
     "execution_count": 2,
     "metadata": {},
     "output_type": "execute_result"
    }
   ],
   "source": [
    "data=pd.read_csv('C:/Users/Kois/Desktop/thesis/dataset/tweets_long/outDEV.csv')\n",
    "documents=data['tweet']\n",
    "documents"
   ]
  },
  {
   "cell_type": "code",
   "execution_count": 3,
   "id": "a2fe05fe",
   "metadata": {},
   "outputs": [
    {
     "data": {
      "text/html": [
       "<div>\n",
       "<style scoped>\n",
       "    .dataframe tbody tr th:only-of-type {\n",
       "        vertical-align: middle;\n",
       "    }\n",
       "\n",
       "    .dataframe tbody tr th {\n",
       "        vertical-align: top;\n",
       "    }\n",
       "\n",
       "    .dataframe thead th {\n",
       "        text-align: right;\n",
       "    }\n",
       "</style>\n",
       "<table border=\"1\" class=\"dataframe\">\n",
       "  <thead>\n",
       "    <tr style=\"text-align: right;\">\n",
       "      <th></th>\n",
       "      <th>Unnamed: 0</th>\n",
       "      <th>tweet_id</th>\n",
       "      <th>tweet</th>\n",
       "      <th>sentiment</th>\n",
       "    </tr>\n",
       "  </thead>\n",
       "  <tbody>\n",
       "    <tr>\n",
       "      <th>0</th>\n",
       "      <td>0</td>\n",
       "      <td>1214005466675777536</td>\n",
       "      <td>RT @AyeleGelan: ድሮ ተሸምድደው በቀላሉ ይንበለበሉ የነበሩ ኢህኣ...</td>\n",
       "      <td>neutral</td>\n",
       "    </tr>\n",
       "    <tr>\n",
       "      <th>1</th>\n",
       "      <td>1</td>\n",
       "      <td>1213261378397409280</td>\n",
       "      <td>ኦሮሞ ልምድ የለውም ካልን ሌላውም ያው ይሆናል ዋናውነገር ፍትህን ማውረድ...</td>\n",
       "      <td>mixed</td>\n",
       "    </tr>\n",
       "    <tr>\n",
       "      <th>3</th>\n",
       "      <td>3</td>\n",
       "      <td>1216365312561635333</td>\n",
       "      <td>@Gfasil በረከት በላይነህ \\nየእያዪ ፈንገስ ትያትር ደራሲ\\nእንዲሁም...</td>\n",
       "      <td>positive</td>\n",
       "    </tr>\n",
       "    <tr>\n",
       "      <th>6</th>\n",
       "      <td>6</td>\n",
       "      <td>1216554363960819713</td>\n",
       "      <td>@heyab_ @beyene99 @HanaMariyam1911 @Antesho19 ...</td>\n",
       "      <td>positive</td>\n",
       "    </tr>\n",
       "    <tr>\n",
       "      <th>7</th>\n",
       "      <td>7</td>\n",
       "      <td>1213946002408923136</td>\n",
       "      <td>@Samru_Q አንች ልጅ ያንን የዩትዩብ ቻናልሽን የሆነ ነገር አትጭኝበት...</td>\n",
       "      <td>neutral</td>\n",
       "    </tr>\n",
       "    <tr>\n",
       "      <th>...</th>\n",
       "      <td>...</td>\n",
       "      <td>...</td>\n",
       "      <td>...</td>\n",
       "      <td>...</td>\n",
       "    </tr>\n",
       "    <tr>\n",
       "      <th>933</th>\n",
       "      <td>933</td>\n",
       "      <td>1214601053527846918</td>\n",
       "      <td>ስለ ወለጋ እና ሌሎች የምዕራብ ኦሮሚያ አካባቢዎች የሚሰማው ነገር መንፈስ...</td>\n",
       "      <td>negative</td>\n",
       "    </tr>\n",
       "    <tr>\n",
       "      <th>934</th>\n",
       "      <td>934</td>\n",
       "      <td>1214096434989031425</td>\n",
       "      <td>@HaileFida ምሳሌ 11 (Proverbs)\\n2፤ ትዕቢት ከመጣች ውርደ...</td>\n",
       "      <td>positive</td>\n",
       "    </tr>\n",
       "    <tr>\n",
       "      <th>935</th>\n",
       "      <td>935</td>\n",
       "      <td>1213850051866324998</td>\n",
       "      <td>@isuchisu በተንኮል በጠባብ ዘረኝነት  የተመረዘውን ልብህን አፅዳ ከ...</td>\n",
       "      <td>negative</td>\n",
       "    </tr>\n",
       "    <tr>\n",
       "      <th>937</th>\n",
       "      <td>937</td>\n",
       "      <td>1213120677743599618</td>\n",
       "      <td>@_wurye @_wurye ❤ I'm inlove with this song 🎵\\...</td>\n",
       "      <td>positive</td>\n",
       "    </tr>\n",
       "    <tr>\n",
       "      <th>938</th>\n",
       "      <td>938</td>\n",
       "      <td>1214758637433962496</td>\n",
       "      <td>@HussenMuhye ህዝብ በእብደት ያቃጠለው እንደተወገዘ ቢሆንም ወዲያው...</td>\n",
       "      <td>neutral</td>\n",
       "    </tr>\n",
       "  </tbody>\n",
       "</table>\n",
       "<p>643 rows × 4 columns</p>\n",
       "</div>"
      ],
      "text/plain": [
       "     Unnamed: 0             tweet_id  \\\n",
       "0             0  1214005466675777536   \n",
       "1             1  1213261378397409280   \n",
       "3             3  1216365312561635333   \n",
       "6             6  1216554363960819713   \n",
       "7             7  1213946002408923136   \n",
       "..          ...                  ...   \n",
       "933         933  1214601053527846918   \n",
       "934         934  1214096434989031425   \n",
       "935         935  1213850051866324998   \n",
       "937         937  1213120677743599618   \n",
       "938         938  1214758637433962496   \n",
       "\n",
       "                                                 tweet sentiment  \n",
       "0    RT @AyeleGelan: ድሮ ተሸምድደው በቀላሉ ይንበለበሉ የነበሩ ኢህኣ...   neutral  \n",
       "1    ኦሮሞ ልምድ የለውም ካልን ሌላውም ያው ይሆናል ዋናውነገር ፍትህን ማውረድ...     mixed  \n",
       "3    @Gfasil በረከት በላይነህ \\nየእያዪ ፈንገስ ትያትር ደራሲ\\nእንዲሁም...  positive  \n",
       "6    @heyab_ @beyene99 @HanaMariyam1911 @Antesho19 ...  positive  \n",
       "7    @Samru_Q አንች ልጅ ያንን የዩትዩብ ቻናልሽን የሆነ ነገር አትጭኝበት...   neutral  \n",
       "..                                                 ...       ...  \n",
       "933  ስለ ወለጋ እና ሌሎች የምዕራብ ኦሮሚያ አካባቢዎች የሚሰማው ነገር መንፈስ...  negative  \n",
       "934  @HaileFida ምሳሌ 11 (Proverbs)\\n2፤ ትዕቢት ከመጣች ውርደ...  positive  \n",
       "935  @isuchisu በተንኮል በጠባብ ዘረኝነት  የተመረዘውን ልብህን አፅዳ ከ...  negative  \n",
       "937  @_wurye @_wurye ❤ I'm inlove with this song 🎵\\...  positive  \n",
       "938  @HussenMuhye ህዝብ በእብደት ያቃጠለው እንደተወገዘ ቢሆንም ወዲያው...   neutral  \n",
       "\n",
       "[643 rows x 4 columns]"
      ]
     },
     "execution_count": 3,
     "metadata": {},
     "output_type": "execute_result"
    }
   ],
   "source": [
    "documents=data[data['tweet']!='lost']\n",
    "documents"
   ]
  },
  {
   "cell_type": "markdown",
   "id": "fb3b1bf5",
   "metadata": {
    "colab": {
     "base_uri": "https://localhost:8080/"
    },
    "id": "a243ba90",
    "outputId": "364a624d-ce30-4d47-82a3-29c2b8d4261a"
   },
   "source": [
    "print(documents[:5])"
   ]
  },
  {
   "cell_type": "markdown",
   "id": "95b695bd",
   "metadata": {},
   "source": [
    "print(data['tweet'].where(data['tweet']!='lost'))"
   ]
  },
  {
   "cell_type": "code",
   "execution_count": 4,
   "id": "4d30029d",
   "metadata": {
    "id": "4d30029d"
   },
   "outputs": [],
   "source": [
    "stop_words=['እኔ','የእኔ','እኔራሴ','እኛ','የእኛ','እኛራሳችን','አንቺ','ነህ','አላችሁ','እርስዎ','ትፈልጋለህ','ያንተ','ራስህን','እራሳችሁ','እሱ','የእሱ','ራሱ','እሷ','እሷናት','የእሷ','እራሷ','ነው','እነሱ','እነሱን','የእነሱ','ራሳቸው','ምንድን','የትኛው','ማን','ይህ','የሚልነው','ያ','እነዚህ','እነዚያ','ነኝ','ናቸው','ነበር','ነበሩ','ሁን','ቆይቷል','መሆን','አላቸው','አለው','ነበረው','ያለው','መስራት','ያደርጋል','አደረገ','ማድረግ','ሀ','አንድ','የ','እና','ከሆነ','ወይም'\n",
    ",'ምክንያቱም','እንደ','እስከ','እያለ','በ','ለ','ጋር','ስለ','ላይ','መካከል','ወደ','በኩል','ወቅት','ከዚህበፊት','በኋላ','ከላይ','ከታች','ከ','ወደላይ','ታች','ውስጥ','ውጭ','በላይ','እንደገና','ተጨማሪ','ከዚያ','አንድጊዜ','እዚህ','እዚያ','መቼ','የት','ለምን','እንዴት','ሁሉም','ማንኛውም','ሁለቱም','እያንዳንዳቸው','ጥቂቶች','በጣም','ሌላ','አንዳንድ','እንደዚህ','ብቻ','የራሱ','ተመሳሳይ','ስለዚህ','ይልቅ','እንዲሁ','ት','ይችላል','ይገባል','ይገባኛል','አሁን','መ','ም','ኦ','ዳግም','መሆን','ሁለ','ሁለም','ሕዝብ','ሀሙስ','ለመሆኑ','ለምንድን','ሌሎች','መጽሀፍ','ማክሰኞ','ምን','ሰኞ','ሰው','ሲሆን','ስንት','ረቡእ','ቅዳሜ','በዚህ','ብላ','ነገር','አለ','አርብ','አንተ','አንዳንድ','ኢትዮጵያ','እሁድ','እናንተ','እንኳን','እግር','ከመሆን','ወይንም','ዋና','ዘንድ','የሚከተለው','ያኔ','ይኼው','ገጽ','እነርሱ','ን','ና','ዎች','ይጠበቃል','ብለዋል','ሆ','ሁሉ','አንቀጽ','እንደሆነ','በማይበልጥ','መሰረት','ሁኔታ','ይሆናል','ሆኖ','ከአንድ','በማናቸውም','ወር','ከአምስት','በሆነ','ከዚህ','የሆነ','ሀያ','ሆነ','በኊላ','በአንድ',\n",
    "'የሆኑ','ከአስራ','የሆነውን','መሆኑ','ሌላውን','ከሰባት','ለሌላ','አለበት','ሲል','ይሆናሉ','በሙሉ','አስራ','ቢሆንም','አንዱ','የሌላውን','ከሁለት','የሆኑትን','በሆኑ','ጀምሮ','በመሆን','ባለ','ይህንን','እንዲቆይ','ሌላው','የሚሆነው','በአንዱ','ሲባል','ሳለ','የሆነው','መሆናቸው','በዋና','በማቀድ','ጊዜና','ለዚህ','ሶስተኛ','የነገሩ','ስድስት'\n",
    ",'በሆነው','ይሁን','ከዚሁ','በእነዚህ','ከማናቸውም','ከነበረው','በአንዳንድ','በእያንዳንዱ','ጊዜም','አስከ','የሌሎች','የሚሆኑት','ከሆነው','የነበረውን','ያሉ','ከሌሎች','አንዲት','ለሌሎች','ለሆነው','ሰኣት','ብሎ','ከሰላሳ','የሚሆኑ','ላይም','የሆናል','ከነዚህ','ያህል','ከሆነና','ለሆኑት','እነዚሁ','እንደሆኑ','ስለማናቸውም','ስለዚሁ','ከአንዳንድ','በእነዚሁ','በአምስት','የሆኑበታል','ለነዚህ','ለማንኛውም','አንደኛ','ይኸኛው','ከርሱ','መሆኑን','ለዚያው','ለዚሁ','ለእነርሱም','እዚሁ','ሐ','ረ','ሸ','አምስት','ከሶስት','በተለይም','በሌላ','ሺህ','ማናቸውንም','ከአስር','የማይበልጥ','እንዲሁም','ይህን','የዚህ','ማናቸውም','ከስድስት','መቶ','ያለ','አንድን','ያላቸውን','ሊሆን','ሶስት'\n",
    ",'ካልሆነ','ቢያንስ','ቢሆን','እነዚህን','አንዱን','ሁለት','ወይዘሮ','ተብሎ','ሳይሆን','እንደሆነና','ከብር','ሆኖም','የነበሩ',\n",
    "'የሌላ','ያላቸው','ይህንኑ','ሆነው','በስተቀር','ስም','እንደገና','የማያንስ','እጅግ','እንዲሆን','እንኳ','ከሀያ','ከሀምሳ','ይኸው','ለአንድ','የሚችለውን','በሚገባ','ይህም','እንዲሆኑ','ከሌላ','ለሆነ','በሌሎች','አንደሆነ','እንዲህ',\n",
    "'በነዚሁ','በእንደዚህ','ስምንት','ሲሆንና','ምንጊዜም','ለማናቸውም','የአንድ','እነዚህኑ','ሲሆኑ','በሁለቱም','እንደነዚህ','የሆኑት','የማናቸውም','ይህንንም','የአንድን','በሙሉም','በነዚህ','የዚሁ','ለእያንዳንዱ','ስለሆነ','መሆናቸውን','ማንኛውንም','ሁለቱ','እንጂ','ከስምንት','ሁለቱንም','በሁለት','በእስር','በሚል','ቁጥር','ባሉ','ከመቶ','እነዚህም','ሲኖር','ሰላሳ','ለሆኑ','ሰባት','እነደሆነ','ይህችው','ከእነዚህ','ከእነዚሁ','የአንቀጹ','ወይ','የሆነችን']"
   ]
  },
  {
   "cell_type": "code",
   "execution_count": 5,
   "id": "29bea216",
   "metadata": {},
   "outputs": [],
   "source": [
    "import re "
   ]
  },
  {
   "cell_type": "code",
   "execution_count": 6,
   "id": "4fdd27c9",
   "metadata": {
    "id": "4fdd27c9"
   },
   "outputs": [],
   "source": [
    "def stopWordRemoval(tokens):\n",
    "    token_new=[]\n",
    "    for x in tokens:\n",
    "        if x not in stop_words:\n",
    "            token_new.append(x)\n",
    "    return token_new"
   ]
  },
  {
   "cell_type": "code",
   "execution_count": 7,
   "id": "a7031e0c",
   "metadata": {
    "id": "a7031e0c"
   },
   "outputs": [],
   "source": [
    "def lemmatizer(tokenList):\n",
    "    lemmatized_list=[]\n",
    "    for x in tokenList:\n",
    "        try:\n",
    "            y=hm.anal('amh',x,um=True)\n",
    "            b=y[0]['lemma'].split(\"|\")\n",
    "            lemmatized_list.append(b[0])\n",
    "        except:\n",
    "            print('next')\n",
    "    return lemmatized_list"
   ]
  },
  {
   "cell_type": "code",
   "execution_count": 23,
   "id": "8cee5171",
   "metadata": {
    "colab": {
     "base_uri": "https://localhost:8080/"
    },
    "id": "8cee5171",
    "outputId": "5fe4fc30-9505-4160-e2c9-44c88b63352d"
   },
   "outputs": [
    {
     "data": {
      "text/html": [
       "<div>\n",
       "<style scoped>\n",
       "    .dataframe tbody tr th:only-of-type {\n",
       "        vertical-align: middle;\n",
       "    }\n",
       "\n",
       "    .dataframe tbody tr th {\n",
       "        vertical-align: top;\n",
       "    }\n",
       "\n",
       "    .dataframe thead th {\n",
       "        text-align: right;\n",
       "    }\n",
       "</style>\n",
       "<table border=\"1\" class=\"dataframe\">\n",
       "  <thead>\n",
       "    <tr style=\"text-align: right;\">\n",
       "      <th></th>\n",
       "      <th>Unnamed: 0</th>\n",
       "      <th>tweet_id</th>\n",
       "      <th>tweet</th>\n",
       "      <th>sentiment</th>\n",
       "    </tr>\n",
       "  </thead>\n",
       "  <tbody>\n",
       "    <tr>\n",
       "      <th>0</th>\n",
       "      <td>0</td>\n",
       "      <td>1214005466675777536</td>\n",
       "      <td>RT @AyeleGelan: ድሮ ተሸምድደው በቀላሉ ይንበለበሉ የነበሩ ኢህኣ...</td>\n",
       "      <td>neutral</td>\n",
       "    </tr>\n",
       "    <tr>\n",
       "      <th>1</th>\n",
       "      <td>1</td>\n",
       "      <td>1213261378397409280</td>\n",
       "      <td>ኦሮሞ ልምድ የለውም ካልን ሌላውም ያው ይሆናል ዋናውነገር ፍትህን ማውረድ...</td>\n",
       "      <td>mixed</td>\n",
       "    </tr>\n",
       "    <tr>\n",
       "      <th>3</th>\n",
       "      <td>3</td>\n",
       "      <td>1216365312561635333</td>\n",
       "      <td>@Gfasil በረከት በላይነህ \\nየእያዪ ፈንገስ ትያትር ደራሲ\\nእንዲሁም...</td>\n",
       "      <td>positive</td>\n",
       "    </tr>\n",
       "    <tr>\n",
       "      <th>6</th>\n",
       "      <td>6</td>\n",
       "      <td>1216554363960819713</td>\n",
       "      <td>@heyab_ @beyene99 @HanaMariyam1911 @Antesho19 ...</td>\n",
       "      <td>positive</td>\n",
       "    </tr>\n",
       "    <tr>\n",
       "      <th>7</th>\n",
       "      <td>7</td>\n",
       "      <td>1213946002408923136</td>\n",
       "      <td>@Samru_Q አንች ልጅ ያንን የዩትዩብ ቻናልሽን የሆነ ነገር አትጭኝበት...</td>\n",
       "      <td>neutral</td>\n",
       "    </tr>\n",
       "    <tr>\n",
       "      <th>...</th>\n",
       "      <td>...</td>\n",
       "      <td>...</td>\n",
       "      <td>...</td>\n",
       "      <td>...</td>\n",
       "    </tr>\n",
       "    <tr>\n",
       "      <th>933</th>\n",
       "      <td>933</td>\n",
       "      <td>1214601053527846918</td>\n",
       "      <td>ስለ ወለጋ እና ሌሎች የምዕራብ ኦሮሚያ አካባቢዎች የሚሰማው ነገር መንፈስ...</td>\n",
       "      <td>negative</td>\n",
       "    </tr>\n",
       "    <tr>\n",
       "      <th>934</th>\n",
       "      <td>934</td>\n",
       "      <td>1214096434989031425</td>\n",
       "      <td>@HaileFida ምሳሌ 11 (Proverbs)\\n2፤ ትዕቢት ከመጣች ውርደ...</td>\n",
       "      <td>positive</td>\n",
       "    </tr>\n",
       "    <tr>\n",
       "      <th>935</th>\n",
       "      <td>935</td>\n",
       "      <td>1213850051866324998</td>\n",
       "      <td>@isuchisu በተንኮል በጠባብ ዘረኝነት  የተመረዘውን ልብህን አፅዳ ከ...</td>\n",
       "      <td>negative</td>\n",
       "    </tr>\n",
       "    <tr>\n",
       "      <th>937</th>\n",
       "      <td>937</td>\n",
       "      <td>1213120677743599618</td>\n",
       "      <td>@_wurye @_wurye ❤ I'm inlove with this song 🎵\\...</td>\n",
       "      <td>positive</td>\n",
       "    </tr>\n",
       "    <tr>\n",
       "      <th>938</th>\n",
       "      <td>938</td>\n",
       "      <td>1214758637433962496</td>\n",
       "      <td>@HussenMuhye ህዝብ በእብደት ያቃጠለው እንደተወገዘ ቢሆንም ወዲያው...</td>\n",
       "      <td>neutral</td>\n",
       "    </tr>\n",
       "  </tbody>\n",
       "</table>\n",
       "<p>643 rows × 4 columns</p>\n",
       "</div>"
      ],
      "text/plain": [
       "     Unnamed: 0             tweet_id  \\\n",
       "0             0  1214005466675777536   \n",
       "1             1  1213261378397409280   \n",
       "3             3  1216365312561635333   \n",
       "6             6  1216554363960819713   \n",
       "7             7  1213946002408923136   \n",
       "..          ...                  ...   \n",
       "933         933  1214601053527846918   \n",
       "934         934  1214096434989031425   \n",
       "935         935  1213850051866324998   \n",
       "937         937  1213120677743599618   \n",
       "938         938  1214758637433962496   \n",
       "\n",
       "                                                 tweet sentiment  \n",
       "0    RT @AyeleGelan: ድሮ ተሸምድደው በቀላሉ ይንበለበሉ የነበሩ ኢህኣ...   neutral  \n",
       "1    ኦሮሞ ልምድ የለውም ካልን ሌላውም ያው ይሆናል ዋናውነገር ፍትህን ማውረድ...     mixed  \n",
       "3    @Gfasil በረከት በላይነህ \\nየእያዪ ፈንገስ ትያትር ደራሲ\\nእንዲሁም...  positive  \n",
       "6    @heyab_ @beyene99 @HanaMariyam1911 @Antesho19 ...  positive  \n",
       "7    @Samru_Q አንች ልጅ ያንን የዩትዩብ ቻናልሽን የሆነ ነገር አትጭኝበት...   neutral  \n",
       "..                                                 ...       ...  \n",
       "933  ስለ ወለጋ እና ሌሎች የምዕራብ ኦሮሚያ አካባቢዎች የሚሰማው ነገር መንፈስ...  negative  \n",
       "934  @HaileFida ምሳሌ 11 (Proverbs)\\n2፤ ትዕቢት ከመጣች ውርደ...  positive  \n",
       "935  @isuchisu በተንኮል በጠባብ ዘረኝነት  የተመረዘውን ልብህን አፅዳ ከ...  negative  \n",
       "937  @_wurye @_wurye ❤ I'm inlove with this song 🎵\\...  positive  \n",
       "938  @HussenMuhye ህዝብ በእብደት ያቃጠለው እንደተወገዘ ቢሆንም ወዲያው...   neutral  \n",
       "\n",
       "[643 rows x 4 columns]"
      ]
     },
     "execution_count": 23,
     "metadata": {},
     "output_type": "execute_result"
    }
   ],
   "source": [
    "documents"
   ]
  },
  {
   "cell_type": "code",
   "execution_count": null,
   "id": "901ae6db",
   "metadata": {},
   "outputs": [
    {
     "name": "stdout",
     "output_type": "stream",
     "text": [
      "['ድሮ', 'ተሸምድደው', 'በቀላሉ', 'ይንበለበሉ', 'ዒኅኣዴግ', 'ልብ', 'ወለድ', 'ድርሠቶች', 'ይኀው', 'ዕንዲኅ', 'ውሃ', 'በላቸው', 'በኅወኃት', 'ዐንጋፋ', 'ካድሬዎችም', 'ጭምር', 'ተረሡ', 'ዐኁን', 'ደግሞ', 'ዘበናይ', 'ካድሬዎች', 'ዐዳዲሥ', 'ድርሠቶችን']\n",
      "next\n",
      "next\n",
      "next\n",
      "next\n",
      "next\n",
      "next\n",
      "['ዖሮሞ', 'ልምድ', 'የለውም', 'ካልን', 'ሌላውም', 'ያው', 'ይኆናል', 'ዋናውነገር', 'ፍትኅን', 'ማውረድነው', 'መንግሥቱሥ', 'የትልምድ', 'ዖሮሞች', 'ዐሥተምረውት', 'ዐይደል', 'መለሥሥ', 'መንግሥት', 'መራ', 'ያውምኁሩ', 'ዐይደል', 'የረዳው', 'ዐትማሩም', 'ለማለት', 'ከኆነ', 'ዕኔ', 'ዐልናባብም', 'ዐይቆንጆ', 'ትምክት', '6']\n",
      "next\n",
      "next\n",
      "next\n",
      "next\n",
      "next\n",
      "next\n",
      "next\n",
      "next\n",
      "next\n",
      "next\n",
      "next\n",
      "['በረከት', 'በላይነኅ', 'የዕያዪ', 'ፈንገሥ', 'ትያትር', 'ደራሢ', 'ዕንዲኁም', 'ገራሚ', 'ገጣሚ', 'ለኔ', 'የዘመናችን', 'ዐንዱ', 'ምርጥ']\n",
      "next\n",
      "next\n",
      "next\n",
      "next\n",
      "['ክቡራት', 'ዕና', 'ክቡራን', 'ለተሠጠን', 'ዕድል', 'ዕናመሠግናለን', 'ደኅና', 'ዕደሩልኝማ']\n",
      "next\n",
      "['ዐንች', 'ልጅ', 'ያንን', 'የዩትዩብ', 'ቻናልሽን', 'የኆነ', 'ዐትጭኝበትም', 'ተይ', 'ዜናም', 'ቢኆን', 'ዐንብቢበት', 'ተይ']\n",
      "next\n",
      "next\n",
      "next\n",
      "next\n",
      "next\n",
      "next\n",
      "['ልድገመው', 'ምርጫው', 'ተራዘመም', 'ዐልተራዘመ', 'በበጋም', 'ተደረገ', 'በክረምት', 'በዒትዮጵያ', 'ዕውነተኛ', 'ዕርቅ', 'ዕሥካልተደረገና', 'ብኄራዊ', 'መግባባት', 'ዕሥካልመጣ', 'ድረሥ', 'ዐዙሪቱ', 'መቀጠሉ', 'ዐይቀርምዕሸቱ', 'ኆማ', 'ቀኖ']\n",
      "next\n",
      "next\n"
     ]
    }
   ],
   "source": [
    "processed_docs=[]\n",
    "for x in documents['tweet']:\n",
    "    x=x.lower()\n",
    "    punc=\"[;:()-+'{}.\\<>‹›|«»=፦`~_/፠፡።፣፤፥፦፧፨,’*^@#$&%!~፩፪፫፬፭፮፯፰፱፲፱፲፳፴፵፶]…\"\n",
    "    alphaNumeric=\"abcdefghijklmnopqrstuvwxyz1234587890\"\n",
    "    x=x.translate(x.maketrans('','',punc))\n",
    "    x=x.translate(x.maketrans('','',alphaNumeric))   \n",
    "    h1=['ኀ', 'ኁ', 'ኂ', 'ኃ', 'ኄ', 'ኅ', 'ኆ']\n",
    "    h2=['ሀ', 'ሁ','ሂ', 'ሀ', 'ሄ', 'ህ', 'ሆ']\n",
    "    h3=['ሐ', 'ሑ', 'ሒ', 'ሓ', 'ሔ', 'ሕ', 'ሖ']\n",
    "    t1=['ጸ','ጹ', 'ጺ', 'ጻ', 'ጼ', 'ጽ', 'ጾ']\n",
    "    t2=['ፀ','ፁ', 'ፂ', 'ፃ', 'ፄ', 'ፅ', 'ፆ']\n",
    "    s1=['ሠ','ሡ','ሢ','ሣ','ሤ','ሥ','ሦ']\n",
    "    s2=['ሰ','ሱ', 'ሲ','ሳ','ሴ','ስ','ሶ']\n",
    "    a1=['ዐ', 'ዑ', 'ዒ', 'ዓ', 'ዔ', 'ዕ', 'ዖ']\n",
    "    a2=['አ', 'ኡ', 'ኢ', 'አ', 'ኤ', 'እ', 'ኦ']\n",
    "    for i in range(len(h1)):\n",
    "        x=x.replace(h3[i],h1[i])\n",
    "        x=x.replace(h2[i],h1[i])\n",
    "        x=x.replace(t2[i],t1[i])\n",
    "        x=x.replace(s2[i],s1[i])\n",
    "        x=x.replace(a2[i],a1[i])\n",
    "    x=x.split()\n",
    "    x=stopWordRemoval(x)\n",
    "    print(x)\n",
    "    processed_docs.append(lemmatizer(x))"
   ]
  },
  {
   "cell_type": "code",
   "execution_count": 16,
   "id": "735b83b9",
   "metadata": {
    "colab": {
     "base_uri": "https://localhost:8080/"
    },
    "id": "735b83b9",
    "outputId": "8044534a-e0b0-4049-d26a-d751b0372e8f",
    "scrolled": false
   },
   "outputs": [
    {
     "name": "stdout",
     "output_type": "stream",
     "text": [
      "[]\n",
      "[]\n",
      "[]\n",
      "[]\n"
     ]
    }
   ],
   "source": [
    "processed_docs=[]\n",
    "for x in documents:\n",
    "    if x=='lost':\n",
    "        continue\n",
    "    x=x.lower()\n",
    "    punc=\"[;:()-+'{}.\\<>‹›|«»=፦`~_/፠፡።፣፤፥፦፧፨,’*^@#$&%!~፩፪፫፬፭፮፯፰፱፲፱፲፳፴፵፶]…\"\n",
    "    alphaNumeric=\"abcdefghijklmnopqrstuvwxyz1234587890\"\n",
    "    x=x.translate(x.maketrans('','',punc))\n",
    "    x=x.translate(x.maketrans('','',alphaNumeric))\n",
    "    emoji_pattern=re.compile(\"[\" u\"\\U0001F600-\\U0001F647\"\n",
    "                             u\"\\U0001F300-\\U0001F5FF\"\n",
    "                             u\"\\U0001F680-\\U0001F6FF\"\n",
    "                             u\"\\U0001F1E0-\\U0001F1FF\"\n",
    "                             u\"\\U00002702-\\U000027B0\"\n",
    "                             u\"\\U000024C2-\\U0001F251\"\n",
    "                             \"]+\", flags=re.UNICODE)\n",
    "    x=emoji_pattern. sub(r'',x)   \n",
    "    h1=['ኀ', 'ኁ', 'ኂ', 'ኃ', 'ኄ', 'ኅ', 'ኆ']\n",
    "    h2=['ሀ', 'ሁ','ሂ', 'ሀ', 'ሄ', 'ህ', 'ሆ']\n",
    "    h3=['ሐ', 'ሑ', 'ሒ', 'ሓ', 'ሔ', 'ሕ', 'ሖ']\n",
    "    t1=['ጸ','ጹ', 'ጺ', 'ጻ', 'ጼ', 'ጽ', 'ጾ']\n",
    "    t2=['ፀ','ፁ', 'ፂ', 'ፃ', 'ፄ', 'ፅ', 'ፆ']\n",
    "    s1=['ሠ','ሡ','ሢ','ሣ','ሤ','ሥ','ሦ']\n",
    "    s2=['ሰ','ሱ', 'ሲ','ሳ','ሴ','ስ','ሶ']\n",
    "    a1=['ዐ', 'ዑ', 'ዒ', 'ዓ', 'ዔ', 'ዕ', 'ዖ']\n",
    "    a2=['አ', 'ኡ', 'ኢ', 'አ', 'ኤ', 'እ', 'ኦ']\n",
    "    for i in range(len(h1)):\n",
    "        x=x.replace(h3[i],h1[i])\n",
    "        x=x.replace(h2[i],h1[i])\n",
    "        x=x.replace(t2[i],t1[i])\n",
    "        x=x.replace(s2[i],s1[i])\n",
    "        x=x.replace(a2[i],a1[i])\n",
    "    x=x.split()\n",
    "    x=stopWordRemoval(x)\n",
    "    print(x)\n",
    "    processed_docs.append(lemmatizer(x))"
   ]
  },
  {
   "cell_type": "code",
   "execution_count": null,
   "id": "ee832624",
   "metadata": {
    "colab": {
     "base_uri": "https://localhost:8080/",
     "height": 382
    },
    "id": "ee832624",
    "outputId": "3be42a68-8e0d-4c89-ce9f-afb945d3190f"
   },
   "outputs": [],
   "source": [
    "#tokenized and lemmatized document\n",
    "#len(processed_docs)\n",
    "y=hm.anal('amh', \"የቤታችን\", um=True)    \n",
    "y"
   ]
  },
  {
   "cell_type": "markdown",
   "id": "c912be54",
   "metadata": {
    "id": "pXb9NfFG8F-H"
   },
   "source": [
    "listOfNouns=[]\n",
    "for x in processed_docs:\n",
    "    for l in x:\n",
    "        y=hm.anal('amh',l,um=True)\n",
    "        try:\n",
    "            if y[1]['POS']=='n':\n",
    "                print(l)\n",
    "        except:\n",
    "            if y==[]:\n",
    "                print()\n",
    "            elif y[0]['POS']=='n':\n",
    "                print(l)"
   ]
  },
  {
   "cell_type": "markdown",
   "id": "29806162",
   "metadata": {},
   "source": [
    "l=['ድሮ',\n",
    "  'ሸመደደ',\n",
    "  'ቀላል',\n",
    "  'ተንበለበለ',\n",
    "  'ልብ',\n",
    "  'ወለድ',\n",
    "  'ድርሰት',\n",
    "  'ውሀ',\n",
    "  'በላቸው',\n",
    "  'አንጋፋ',\n",
    "  'ጭምር',\n",
    "  'ረሳ',\n",
    "  'ደገመ',\n",
    "  'ዘበናይ',\n",
    "  'አዳዲ',\n",
    "  'ድርሰት']\n",
    "for x in l:\n",
    "        y=hm.anal('amh',x,um=True)\n",
    "        try:\n",
    "            if y[1]['POS']=='n':\n",
    "                print(x)\n",
    "        except:\n",
    "            if y==[]:\n",
    "                print()\n",
    "            elif y[0]['POS']=='n':\n",
    "                print(x)"
   ]
  },
  {
   "cell_type": "code",
   "execution_count": null,
   "id": "457d9734",
   "metadata": {
    "id": "pXb9NfFG8F-H"
   },
   "outputs": [],
   "source": [
    "listOfNouns=[]\n",
    "for x in processed_docs:\n",
    "    for l in x:\n",
    "        y=hm.anal('amh',l,um=True)\n",
    "        try:\n",
    "            if y[1]['POS']=='n':\n",
    "                listOfNouns.append(l)\n",
    "        except:\n",
    "            if y==[]:\n",
    "                print()\n",
    "            elif y[0]['POS']=='n':\n",
    "                listOfNouns.append(l)"
   ]
  },
  {
   "cell_type": "code",
   "execution_count": null,
   "id": "bbb53256",
   "metadata": {},
   "outputs": [],
   "source": [
    "listOfNouns"
   ]
  },
  {
   "cell_type": "code",
   "execution_count": null,
   "id": "7a58a9c7",
   "metadata": {},
   "outputs": [],
   "source": [
    "import pandas as pd"
   ]
  },
  {
   "cell_type": "code",
   "execution_count": null,
   "id": "bef67b79",
   "metadata": {},
   "outputs": [],
   "source": [
    "df = pd.DataFrame(listOfNouns) \n",
    "df.to_csv('devListOfNouns.csv')"
   ]
  },
  {
   "cell_type": "code",
   "execution_count": null,
   "id": "0408e6ab",
   "metadata": {},
   "outputs": [],
   "source": [
    "df = pd.DataFrame(processed_docs) \n",
    "df.to_csv('processedDEV.csv')"
   ]
  },
  {
   "cell_type": "code",
   "execution_count": 14,
   "id": "60ab959b",
   "metadata": {},
   "outputs": [],
   "source": [
    "#function to calculculate frequency of occurernce of stemmed token within a doc\n",
    "#returns a dictionary of terms as keys and frequency as value\n",
    "def calc_term_frequence(stemmed_term_list):\n",
    "    dict1={}\n",
    "    freqList=[]\n",
    "    term=[]\n",
    "    for x in stemmed_term_list:\n",
    "        freqList.append(stemmed_term_list.count(x))\n",
    "        term.append(x)\n",
    "    for x,y in zip(term,freqList):\n",
    "        dict1[x]=y\n",
    "    return dict1"
   ]
  },
  {
   "cell_type": "code",
   "execution_count": 15,
   "id": "5c1f2104",
   "metadata": {},
   "outputs": [
    {
     "ename": "NameError",
     "evalue": "name 'listOfNouns' is not defined",
     "output_type": "error",
     "traceback": [
      "\u001b[1;31m---------------------------------------------------------------------------\u001b[0m",
      "\u001b[1;31mNameError\u001b[0m                                 Traceback (most recent call last)",
      "\u001b[1;32m~\\AppData\\Local\\Temp/ipykernel_10004/3143338220.py\u001b[0m in \u001b[0;36m<module>\u001b[1;34m\u001b[0m\n\u001b[1;32m----> 1\u001b[1;33m \u001b[0mfreq\u001b[0m\u001b[1;33m=\u001b[0m\u001b[0mcalc_term_frequence\u001b[0m\u001b[1;33m(\u001b[0m\u001b[0mlistOfNouns\u001b[0m\u001b[1;33m)\u001b[0m\u001b[1;33m\u001b[0m\u001b[1;33m\u001b[0m\u001b[0m\n\u001b[0m",
      "\u001b[1;31mNameError\u001b[0m: name 'listOfNouns' is not defined"
     ]
    }
   ],
   "source": [
    "freq=calc_term_frequence(listOfNouns)"
   ]
  },
  {
   "cell_type": "code",
   "execution_count": null,
   "id": "af79e461",
   "metadata": {},
   "outputs": [],
   "source": [
    "freq1"
   ]
  },
  {
   "cell_type": "code",
   "execution_count": 13,
   "id": "ce7aac61",
   "metadata": {},
   "outputs": [
    {
     "name": "stdout",
     "output_type": "stream",
     "text": [
      "Loading FSTs for አማርኛ (analysis/generation) ...\n"
     ]
    },
    {
     "data": {
      "text/plain": [
       "[{'POS': 'n',\n",
       "  'lemma': 'ቤት|bet',\n",
       "  'root': 'ቤት|bet',\n",
       "  'gloss': 'house',\n",
       "  'gram': 'N;GEN;PSS1P'}]"
      ]
     },
     "execution_count": 13,
     "metadata": {},
     "output_type": "execute_result"
    }
   ],
   "source": [
    "y=hm.anal('amh', \"የቤታችን\", um=True)    \n",
    "y"
   ]
  },
  {
   "cell_type": "code",
   "execution_count": null,
   "id": "19076d3e",
   "metadata": {},
   "outputs": [],
   "source": []
  }
 ],
 "metadata": {
  "accelerator": "GPU",
  "colab": {
   "collapsed_sections": [],
   "name": "Copy of LDA.ipynb",
   "provenance": []
  },
  "kernelspec": {
   "display_name": "Python 3 (ipykernel)",
   "language": "python",
   "name": "python3"
  },
  "language_info": {
   "codemirror_mode": {
    "name": "ipython",
    "version": 3
   },
   "file_extension": ".py",
   "mimetype": "text/x-python",
   "name": "python",
   "nbconvert_exporter": "python",
   "pygments_lexer": "ipython3",
   "version": "3.9.7"
  }
 },
 "nbformat": 4,
 "nbformat_minor": 5
}
